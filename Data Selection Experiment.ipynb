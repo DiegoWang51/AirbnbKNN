{
 "cells": [
  {
   "cell_type": "code",
   "execution_count": 2,
   "metadata": {},
   "outputs": [],
   "source": [
    "# -*- coding: utf-8 -*-\n",
    "\"\"\"\n",
    "Created on Thu Mar 17\n",
    "\n",
    "@author: Yubin Hu\n",
    "\n",
    "修改：\n",
    "1.删减相互相关的特征\n",
    "2.增加了归一化\n",
    "\n",
    "目前score在0.6左右\n",
    "\n",
    "需要：\n",
    "1.测试经纬度用距离替换效果\n",
    "2.加权测试\n",
    "\n",
    "\"\"\"\n",
    "\n",
    "#可视化函数\n",
    "def viz(title,x,y,viz_flag):\n",
    "    if(viz_flag==1):\n",
    "        import matplotlib.pyplot as plt\n",
    "        \n",
    "        y_predict=x\n",
    "        y_test=y\n",
    "        score=title\n",
    "    #    string='security_deposit'\n",
    "    #    plt.scatter(AirbnbKNN_y,house_features[string])\n",
    "    #    plt.xlabel(\"Nightly Price\")\n",
    "    #    plt.ylabel(string.replace('_', ' ')) \n",
    "        \n",
    "        plt.scatter(y_predict,y_test)\n",
    "        plt.xlabel(\"Predict\")\n",
    "        plt.ylabel(\"Correct\") \n",
    "        plt.title(\"score is \"+str(score))\n",
    "        ##string='accommodates'\n",
    "        ##plt.scatter(AirbnbKNN_y,house_features[string])\n",
    "        ##plt.xlabel(\"Nightly Price\")\n",
    "        ##plt.ylabel(string.replace('_', ' ')) #数据预处理,去掉逗号\n",
    "    \n",
    "        plt.show()\n",
    "    if(viz_flag==2):\n",
    "        import matplotlib.pyplot as plt\n",
    "        plt.hist(x,bins=40)\n",
    "        plt.xlabel(\"Score\")\n",
    "        plt.ylabel(\"Frequency\")\n",
    "        plt.title(\"The average score is \"+str(title))\n",
    "\n",
    "#读入数据\n",
    "import pandas as pd\n",
    "import numpy as np\n",
    "dc_listings=pd.read_csv(\"dc_airbnb-filtered.csv\")\n",
    "\n",
    "#print(dc_listings.iloc[2072])\n",
    "#dc_listings.drop([2072], inplace = True) #此行数据KNN不擅长预测\n",
    "\n",
    "\n",
    "#数据预处理\n",
    "stripped_commas = dc_listings['price'].str.replace(',', '') #数据预处理,去掉逗号\n",
    "stripped_dollars = stripped_commas.str.replace('$', '') #数据预处理，去掉美金符号\n",
    "dc_listings['price'] = stripped_dollars.astype('float') #数据预处理，强制转换为float类型\n",
    "dc_listings['host_response_rate'] = dc_listings['host_response_rate'].str.replace('%', '') #数据预处理，去掉百分号\n",
    "dc_listings['host_acceptance_rate'] = dc_listings['host_acceptance_rate'].str.replace('%', '')\n",
    "stripped_commas = dc_listings['cleaning_fee'].str.replace(',', '') #数据预处理,去掉逗号\n",
    "stripped_dollars = stripped_commas.str.replace('$', '') #数据预处理，去掉美金符号\n",
    "stripped_spaces = stripped_dollars.str.replace(' ','') #数据预处理，去掉空格\n",
    "dc_listings['cleaning_fee'] = stripped_spaces\n",
    "stripped_commas = dc_listings['security_deposit'].str.replace(',', '') #数据预处理,去掉逗号\n",
    "stripped_dollars = stripped_commas.str.replace('$', '') #数据预处理，去掉美金符号\n",
    "stripped_spaces = stripped_dollars.str.replace(' ','')\n",
    "dc_listings['security_deposit'] = stripped_spaces\n",
    "dc_listings['room_type'] = dc_listings['room_type'].str.replace('Entire home/apt', '3') #数据预处理,赋值，entire 3， private 2， shared 1\n",
    "dc_listings['room_type'] = dc_listings['room_type'].str.replace('Private room', '2')\n",
    "dc_listings['room_type'] = dc_listings['room_type'].str.replace('Shared room', '1')\n",
    "dc_listings['host_listings_count'] = dc_listings['host_listings_count'].astype('float')\n",
    "dc_listings['accommodates'] = dc_listings['accommodates'].astype('float')\n",
    "dc_listings['beds'] = dc_listings['beds'].astype('float')\n",
    "dc_listings['maximum_nights'] = dc_listings['maximum_nights'].astype('float')\n",
    "dc_listings['cleaning_fee'] = dc_listings['cleaning_fee'].astype('float')\n",
    "dc_listings['security_deposit'] = dc_listings['security_deposit'].astype('float')\n",
    "dc_listings['room_type'] = dc_listings['room_type'].astype('float')\n",
    "dc_listings['host_response_rate'] = dc_listings['host_response_rate'].astype('float')\n",
    "dc_listings['host_acceptance_rate'] = dc_listings['host_acceptance_rate'].astype('float')\n",
    "\n",
    "#dc_listings = dc_listings.loc[np.random.permutation(len(dc_listings))] #对现有数列随机排列"
   ]
  },
  {
   "cell_type": "code",
   "execution_count": 4,
   "metadata": {},
   "outputs": [
    {
     "name": "stdout",
     "output_type": "stream",
     "text": [
      "accommodates           4.000000\n",
      "room_type              3.000000\n",
      "bedrooms               1.000000\n",
      "bathrooms              1.000000\n",
      "beds                   2.000000\n",
      "cleaning_fee         115.000000\n",
      "number_of_reviews      0.000000\n",
      "latitude              38.890046\n",
      "longitude            -77.002808\n",
      "Name: 0, dtype: float64\n"
     ]
    },
    {
     "data": {
      "image/png": "[encoded data removed]",
      "text/plain": [
       "<Figure size 432x288 with 1 Axes>"
      ]
     },
     "metadata": {},
     "output_type": "display_data"
    },
    {
     "name": "stdout",
     "output_type": "stream",
     "text": [
      "Trial: 200 times\n"
     ]
    },
    {
     "data": {
      "image/png": "[encoded data removed]",
      "text/plain": [
       "<Figure size 432x288 with 1 Axes>"
      ]
     },
     "metadata": {},
     "output_type": "display_data"
    }
   ],
   "source": [
    "distance_flag=False #是否用离市中心距离替代经纬度\n",
    "independent_flag=False #是否只保留相互独立的变量\n",
    "response_flag=False #是否考虑 host_response_rate 和 host_acceptance_rate\n",
    "review_flag=True #是否考虑 number_of_reviews\n",
    "cleaning_fee_flag=True \n",
    "security_deposit_flag=False #insignificant\n",
    "room_type_flag=True #significant yes\n",
    "filter_flag=True #是否删除大于1000美元价格的房屋\n",
    "\n",
    "def AirbnbKNN_score(dc_listings):\n",
    "    #数据选择\n",
    "    if(filter_flag==True):\n",
    "        house_features=dc_listings[dc_listings.price<1000]\n",
    "    else:\n",
    "        house_features=dc_listings\n",
    "    house_features=house_features.dropna(subset=['host_acceptance_rate']) #去除未成交房屋\n",
    "    del house_features['city'] #去除重复信息\n",
    "    del house_features['zipcode']\n",
    "    del house_features['state']\n",
    "    del house_features['minimum_nights']\n",
    "    del house_features['maximum_nights']\n",
    "    del house_features['host_listings_count']\n",
    "    if(cleaning_fee_flag==False):\n",
    "        del house_features['cleaning_fee']\n",
    "    if(security_deposit_flag==False):\n",
    "        del house_features['security_deposit']\n",
    "    if(independent_flag==True):\n",
    "        del house_features['bedrooms']\n",
    "        del house_features['beds']\n",
    "    if(response_flag==False):\n",
    "        del house_features['host_response_rate']\n",
    "        del house_features['host_acceptance_rate']\n",
    "    if(review_flag==False):\n",
    "        del house_features['number_of_reviews']\n",
    "    if(room_type_flag==False):\n",
    "        del house_features['room_type']\n",
    "\n",
    "    #距离替换经纬度\n",
    "    if(distance_flag==True):\n",
    "        DC_capital_lat=38.889931\n",
    "        DC_capital_long=-77.009003\n",
    "        distance=((house_features['latitude']-DC_capital_lat)**2+(house_features['longitude']-DC_capital_long)**2)**0.5\n",
    "        house_features['latitude']=distance\n",
    "        del house_features['longitude']\n",
    "\n",
    "    #产生KNN输入\n",
    "    house_features=house_features.fillna(0) #补充 cleaning fee等列的nan\n",
    "    AirbnbKNN_X = house_features \n",
    "    AirbnbKNN_y = np.array(house_features['price'])\n",
    "    del AirbnbKNN_X['price']\n",
    "    AirbnbKNN_X = np.array(AirbnbKNN_X)\n",
    "\n",
    "    print(house_features.iloc[0])\n",
    "\n",
    "    #归一化\n",
    "    from sklearn import preprocessing\n",
    "    min_max_scaler = preprocessing.MinMaxScaler()\n",
    "    AirbnbKNN_X = min_max_scaler.fit_transform(AirbnbKNN_X)\n",
    "\n",
    "    #数据切分，训练模型，用训练好的模型进行预测,并对预测好坏进行评估\n",
    "    from sklearn.model_selection import train_test_split\n",
    "    from sklearn.neighbors import KNeighborsRegressor\n",
    "    knn = KNeighborsRegressor(n_neighbors=20) #定义用sklearn中的KNN分类算法 \n",
    "    total_score=0.0\n",
    "    trial_number=200\n",
    "    score_list=[]\n",
    "    for i in range(trial_number):\n",
    "        X_train,X_test,y_train,y_test = train_test_split(AirbnbKNN_X,AirbnbKNN_y,test_size = 0.3)\n",
    "        knn.fit(X_train,y_train)\n",
    "        #print(knn.predict(X_test))   #这里的knn就是已经train好了的knn\n",
    "        #print(y_test)    # 对比真实值\n",
    "        score = knn.score(X_test,y_test)\n",
    "        total_score += score\n",
    "        score_list.append(score)\n",
    "        if(i==0):\n",
    "            viz(score,knn.predict(X_test),y_test,1)\n",
    "    \n",
    "    avg_score=total_score/trial_number\n",
    "    viz(avg_score,score_list,y_test,2)\n",
    "    print(\"Trial: \"+str(trial_number)+\" times\")\n",
    "AirbnbKNN_score(dc_listings)"
   ]
  },
  {
   "cell_type": "markdown",
   "metadata": {},
   "source": [
    "# 用距市中心距离替代经纬度"
   ]
  },
  {
   "cell_type": "code",
   "execution_count": 1,
   "metadata": {},
   "outputs": [
    {
     "ename": "NameError",
     "evalue": "name 'AirbnbKNN_score' is not defined",
     "output_type": "error",
     "traceback": [
      "\u001b[1;31m---------------------------------------------------------------------------\u001b[0m",
      "\u001b[1;31mNameError\u001b[0m                                 Traceback (most recent call last)",
      "\u001b[1;32m<ipython-input-1-eac5f8385227>\u001b[0m in \u001b[0;36m<module>\u001b[1;34m()\u001b[0m\n\u001b[0;32m      1\u001b[0m \u001b[0mdistance_flag\u001b[0m\u001b[1;33m=\u001b[0m\u001b[1;32mTrue\u001b[0m\u001b[1;33m\u001b[0m\u001b[1;33m\u001b[0m\u001b[0m\n\u001b[1;32m----> 2\u001b[1;33m \u001b[0mAirbnbKNN_score\u001b[0m\u001b[1;33m(\u001b[0m\u001b[0mdc_listings\u001b[0m\u001b[1;33m)\u001b[0m\u001b[1;33m\u001b[0m\u001b[1;33m\u001b[0m\u001b[0m\n\u001b[0m",
      "\u001b[1;31mNameError\u001b[0m: name 'AirbnbKNN_score' is not defined"
     ]
    }
   ],
   "source": [
    "distance_flag=True\n",
    "AirbnbKNN_score(dc_listings)"
   ]
  },
  {
   "cell_type": "markdown",
   "metadata": {},
   "source": [
    "# 只保留相互独立的变量"
   ]
  },
  {
   "cell_type": "code",
   "execution_count": 81,
   "metadata": {},
   "outputs": [
    {
     "name": "stdout",
     "output_type": "stream",
     "text": [
      "accommodates           4.000000\n",
      "room_type              3.000000\n",
      "bathrooms              1.000000\n",
      "cleaning_fee         115.000000\n",
      "number_of_reviews      0.000000\n",
      "latitude              38.890046\n",
      "longitude            -77.002808\n",
      "Name: 0, dtype: float64\n"
     ]
    },
    {
     "data": {
      "image/png": "[encoded data removed]",
      "text/plain": [
       "<Figure size 432x288 with 1 Axes>"
      ]
     },
     "metadata": {},
     "output_type": "display_data"
    },
    {
     "name": "stdout",
     "output_type": "stream",
     "text": [
      "Trial: 200 times\n"
     ]
    },
    {
     "data": {
      "image/png": "[encoded data removed]",
      "text/plain": [
       "<Figure size 432x288 with 1 Axes>"
      ]
     },
     "metadata": {},
     "output_type": "display_data"
    }
   ],
   "source": [
    "independent_flag=True #是否只保留相互独立的变量\n",
    "AirbnbKNN_score(dc_listings)"
   ]
  },
  {
   "cell_type": "code",
   "execution_count": null,
   "metadata": {},
   "outputs": [],
   "source": []
  }
 ],
 "metadata": {
  "kernelspec": {
   "display_name": "Python 3",
   "language": "python",
   "name": "python3"
  },
  "language_info": {
   "codemirror_mode": {
    "name": "ipython",
    "version": 3
   },
   "file_extension": ".py",
   "mimetype": "text/x-python",
   "name": "python",
   "nbconvert_exporter": "python",
   "pygments_lexer": "ipython3",
   "version": "3.6.8"
  }
 },
 "nbformat": 4,
 "nbformat_minor": 2
}
